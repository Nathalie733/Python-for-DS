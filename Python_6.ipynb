{
  "nbformat": 4,
  "nbformat_minor": 0,
  "metadata": {
    "colab": {
      "provenance": []
    },
    "kernelspec": {
      "name": "python3",
      "display_name": "Python 3"
    },
    "language_info": {
      "name": "python"
    }
  },
  "cells": [
    {
      "cell_type": "code",
      "execution_count": 1,
      "metadata": {
        "colab": {
          "base_uri": "https://localhost:8080/"
        },
        "id": "ysf2jXz-zRsE",
        "outputId": "f16dcd4e-237a-411e-cd26-602439edeb9b"
      },
      "outputs": [
        {
          "output_type": "stream",
          "name": "stdout",
          "text": [
            "Writing musica.txt\n"
          ]
        }
      ],
      "source": [
        "%%writefile musica.txt\n",
        "Roda Viva\n",
        "\n",
        "Chico Buarque\n",
        "\n",
        "Tem dias que a gente se sente\n",
        "Como quem partiu ou morreu\n",
        "A gente estancou de repente\n",
        "Ou foi o mundo então que cresceu\n",
        "A gente quer ter voz ativa\n",
        "No nosso destino mandar\n",
        "Mas eis que chega a roda viva\n",
        "E carrega o destino pra lá\n",
        "Roda mundo, roda-gigante\n",
        "Roda moinho, roda pião\n",
        "O tempo rodou num instante\n",
        "Nas voltas do meu coração\n",
        "A gente vai contra a corrente\n",
        "Até não poder resistir\n",
        "Na volta do barco é que sente\n",
        "O quanto deixou de cumprir\n",
        "Faz tempo que a gente cultiva\n",
        "A mais linda roseira que há\n",
        "Mas eis que chega a roda viva\n",
        "E carrega a roseira pra lá\n",
        "Roda mundo, roda-gigante\n",
        "Roda moinho, roda pião"
      ]
    },
    {
      "cell_type": "code",
      "source": [
        "class ArquivoTexto(object):\n",
        "\n",
        "  def __init__(self, arquivo: str):\n",
        "    self.arquivo = arquivo\n",
        "    self.conteudo = self.extrair_conteudo()\n",
        "\n",
        "  def extrair_conteudo(self):\n",
        "     with open(self.arquivo, 'r') as na:\n",
        "      conteudo = na.readlines()\n",
        "     return conteudo\n",
        "\n",
        "  def extrair_linha(self, numero_linha: int):\n",
        "    if numero_linha <  1 or numero_linha > len(self.conteudo):\n",
        "      return None\n",
        "\n",
        "    return self.conteudo[numero_linha-1].strip()"
      ],
      "metadata": {
        "id": "vSg2WcJNz0Fe"
      },
      "execution_count": 2,
      "outputs": []
    },
    {
      "cell_type": "code",
      "source": [
        "arquivo_texto = ArquivoTexto(arquivo='musica.txt')\n",
        "numero_linha = 1\n",
        "print(arquivo_texto.extrair_linha(numero_linha=numero_linha))\n",
        "numero_linha = 10\n",
        "print(arquivo_texto.extrair_linha(numero_linha=numero_linha))"
      ],
      "metadata": {
        "colab": {
          "base_uri": "https://localhost:8080/"
        },
        "id": "YSdUilev0086",
        "outputId": "1529f17f-cbba-4234-b0b5-70eeb3baf181"
      },
      "execution_count": 3,
      "outputs": [
        {
          "output_type": "stream",
          "name": "stdout",
          "text": [
            "Roda Viva\n",
            "No nosso destino mandar\n"
          ]
        }
      ]
    },
    {
      "cell_type": "code",
      "source": [
        "%%writefile carros.csv\n",
        "id,valor_venda,valor_manutencao,portas,pessoas,porta_malas\n",
        "1,vhigh,med,2,2,small\n",
        "2,med,vhigh,2,2,small\n",
        "3,low,vhigh,2,2,small\n",
        "4,low,high,2,2,small\n",
        "5,low,high,2,2,small\n",
        "6,low,high,4,4,big\n",
        "7,low,high,4,4,big\n",
        "8,low,med,2,2,small\n",
        "9,low,med,2,2,small\n",
        "10,low,med,2,2,small\n",
        "11,low,med,4,4,big\n",
        "12,low,low,2,2,small\n",
        "13,low,low,4,4,small\n",
        "14,low,low,4,4,med"
      ],
      "metadata": {
        "colab": {
          "base_uri": "https://localhost:8080/"
        },
        "id": "q_-682rE1FSM",
        "outputId": "03f8c9af-ebee-4a28-9d30-d26dfbf60ffc"
      },
      "execution_count": 4,
      "outputs": [
        {
          "output_type": "stream",
          "name": "stdout",
          "text": [
            "Writing carros.csv\n"
          ]
        }
      ]
    },
    {
      "cell_type": "code",
      "source": [
        "class ArquivoCSV(object):\n",
        "\n",
        "  def __init__(self, arquivo: str):\n",
        "\n",
        "    self.arquivo = arquivo\n",
        "    self.conteudo = self._extrair_conteudo()\n",
        "    self.colunas = self._extrair_nomes_colunas()\n",
        "\n",
        "  def _extrair_conteudo (self):\n",
        "    conteudo = None\n",
        "    with open(file=self.arquivo, mode='r', encoding='utf-8') as arquivo:\n",
        "      conteudo = arquivo.readlines()\n",
        "    return conteudo\n",
        "\n",
        "  def _extrair_nomes_colunas(self):\n",
        "    return self.conteudo[0].strip().split(sep=',')\n",
        "\n",
        "  def extrair_linha(self, numero_linha):\n",
        "    if 1 <= numero_linha <= len(self.conteudo):\n",
        "      return self.conteudo[numero_linha - 1].strip()\n",
        "    return None\n",
        "\n",
        "  def extrair_coluna_da_linha(self, numero_linha: int, numero_coluna: int):\n",
        "    if numero_linha <  1 or numero_linha > len(self.conteudo):\n",
        "      return None\n",
        "\n",
        "    conteudo_linha = self.conteudo[numero_linha - 1].strip().split(sep=',')\n",
        "    if numero_coluna < 0 or numero_coluna >= len(conteudo_linha):\n",
        "      return None\n",
        "\n",
        "    return conteudo_linha[numero_coluna]\n",
        "\n",
        "    coluna = list()\n",
        "\n",
        "    for linha in self.conteudo:\n",
        "      conteudo_linha = linha.strip().split(sep=',')\n",
        "      coluna.append(conteudo_linha[numero_linha - 1])\n",
        "    coluna.pop(0)\n",
        "\n",
        "    return coluna"
      ],
      "metadata": {
        "id": "7gcP2mId1Up4"
      },
      "execution_count": 5,
      "outputs": []
    },
    {
      "cell_type": "code",
      "source": [
        "arquivo_csv = ArquivoCSV(arquivo='carros.csv')\n",
        "numero_linha = 1\n",
        "print(arquivo_csv.extrair_linha(numero_linha=numero_linha))\n",
        "# id,valor_venda,valor_manutencao,portas,pessoas,porta_malas\n",
        "print(arquivo_csv.colunas)\n",
        "# [\n",
        "# 'id',\n",
        "# 'valor_venda',\n",
        "# 'valor_manutencao',\n",
        "# 'portas',\n",
        "# 'pessoas',\n",
        "# 'porta_malas'\n",
        "# ]\n",
        "numero_linha = 10\n",
        "print(arquivo_csv.extrair_linha(numero_linha=numero_linha))\n",
        "# 9,low,med,2,2,small\n",
        "numero_linha = 10\n",
        "numero_coluna = 2\n",
        "print(arquivo_csv.extrair_coluna_da_linha(numero_linha=numero_linha,numero_coluna=numero_coluna))"
      ],
      "metadata": {
        "colab": {
          "base_uri": "https://localhost:8080/"
        },
        "id": "rvanVoFH1qBq",
        "outputId": "98a203de-1eda-4e7a-bc43-4900c42fd0d9"
      },
      "execution_count": 6,
      "outputs": [
        {
          "output_type": "stream",
          "name": "stdout",
          "text": [
            "id,valor_venda,valor_manutencao,portas,pessoas,porta_malas\n",
            "['id', 'valor_venda', 'valor_manutencao', 'portas', 'pessoas', 'porta_malas']\n",
            "9,low,med,2,2,small\n",
            "med\n"
          ]
        }
      ]
    }
  ]
}