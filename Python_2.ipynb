{
  "nbformat": 4,
  "nbformat_minor": 0,
  "metadata": {
    "colab": {
      "provenance": []
    },
    "kernelspec": {
      "name": "python3",
      "display_name": "Python 3"
    },
    "language_info": {
      "name": "python"
    }
  },
  "cells": [
    {
      "cell_type": "markdown",
      "source": [
        "### Exercício 1"
      ],
      "metadata": {
        "id": "AuA2h7PHq2Wd"
      }
    },
    {
      "cell_type": "code",
      "execution_count": 3,
      "metadata": {
        "colab": {
          "base_uri": "https://localhost:8080/"
        },
        "id": "j06v2W2hvO06",
        "outputId": "17c3a4e5-da4d-4434-cc21-08584be04a67"
      },
      "outputs": [
        {
          "output_type": "stream",
          "name": "stdout",
          "text": [
            "['The Shawshank Redemption', 'The Godfather', 'The Dark Knight', 'The Godfather Part II', '12 Angry Men', \"Schindler's List\", 'The Lord of the Rings: The Return of the King', 'Pulp Fiction', 'The Lord of the Rings: The Fellowship of the Ring', 'The Good, the Bad and the Ugly']\n"
          ]
        }
      ],
      "source": [
        "filmes = [\"The Shawshank Redemption\", \"The Godfather\", \"The Dark Knight\", \"The Godfather Part II\", \"12 Angry Men\", \"Schindler's List\", \"The Lord of the Rings: The Return of the King\", \"Pulp Fiction\", \"The Lord of the Rings: The Fellowship of the Ring\", \"The Good, the Bad and the Ugly\"]\n",
        "\n",
        "print(filmes)"
      ]
    },
    {
      "cell_type": "code",
      "source": [
        "filmes.insert(0, \"Oppenheimer\")\n",
        "print(filmes)"
      ],
      "metadata": {
        "colab": {
          "base_uri": "https://localhost:8080/"
        },
        "id": "pYY7m48wzcBU",
        "outputId": "1ce84618-db16-44cd-acd1-3d8c23e1c0c2"
      },
      "execution_count": 4,
      "outputs": [
        {
          "output_type": "stream",
          "name": "stdout",
          "text": [
            "['Oppenheimer', 'The Shawshank Redemption', 'The Godfather', 'The Dark Knight', 'The Godfather Part II', '12 Angry Men', \"Schindler's List\", 'The Lord of the Rings: The Return of the King', 'Pulp Fiction', 'The Lord of the Rings: The Fellowship of the Ring', 'The Good, the Bad and the Ugly']\n"
          ]
        }
      ]
    },
    {
      "cell_type": "code",
      "source": [
        "filmes.pop(3)\n",
        "print(filmes)"
      ],
      "metadata": {
        "colab": {
          "base_uri": "https://localhost:8080/"
        },
        "id": "CHrNTFDIzmoF",
        "outputId": "4f50fc71-e524-4ff3-a68b-34f832bb97ce"
      },
      "execution_count": 5,
      "outputs": [
        {
          "output_type": "stream",
          "name": "stdout",
          "text": [
            "['Oppenheimer', 'The Shawshank Redemption', 'The Godfather', 'The Godfather Part II', '12 Angry Men', \"Schindler's List\", 'The Lord of the Rings: The Return of the King', 'Pulp Fiction', 'The Lord of the Rings: The Fellowship of the Ring', 'The Good, the Bad and the Ugly']\n"
          ]
        }
      ]
    },
    {
      "cell_type": "markdown",
      "source": [
        "### Exercício 2"
      ],
      "metadata": {
        "id": "7HvoYIb1q5Bq"
      }
    },
    {
      "cell_type": "code",
      "source": [
        "filmes = [\"The Shawshank Redemption\", \"The Lord of the Rings: The Fellowship of the Ring\", \"The Godfather\", \"The Dark Knight\", \"The Good, the Bad and the Ugly\", \"The Godfather Part II\", \"12 Angry Men\", \"Pulp Fiction\", \"Schindler's List\", \"The Lord of the Rings: The Return of the King\", \"Pulp Fiction\", \"The Lord of the Rings: The Fellowship of the Ring\", \"The Good, the Bad and the Ugly\"]\n",
        "\n",
        "print(filmes)\n"
      ],
      "metadata": {
        "colab": {
          "base_uri": "https://localhost:8080/"
        },
        "id": "IV5P5SWOq6OO",
        "outputId": "9b55f3c1-4598-4e20-a98a-99016157bcc5"
      },
      "execution_count": 6,
      "outputs": [
        {
          "output_type": "stream",
          "name": "stdout",
          "text": [
            "['The Shawshank Redemption', 'The Lord of the Rings: The Fellowship of the Ring', 'The Godfather', 'The Dark Knight', 'The Good, the Bad and the Ugly', 'The Godfather Part II', '12 Angry Men', 'Pulp Fiction', \"Schindler's List\", 'The Lord of the Rings: The Return of the King', 'Pulp Fiction', 'The Lord of the Rings: The Fellowship of the Ring', 'The Good, the Bad and the Ugly']\n"
          ]
        }
      ]
    },
    {
      "cell_type": "code",
      "source": [
        "filmes_2 = set(filmes)\n",
        "\n",
        "print(filmes_2)"
      ],
      "metadata": {
        "colab": {
          "base_uri": "https://localhost:8080/"
        },
        "id": "0RX-wBLiq94A",
        "outputId": "d4a237ba-b120-4f14-8cfa-4933b5e1e2ce"
      },
      "execution_count": 7,
      "outputs": [
        {
          "output_type": "stream",
          "name": "stdout",
          "text": [
            "{'12 Angry Men', \"Schindler's List\", 'The Dark Knight', 'The Lord of the Rings: The Return of the King', 'The Shawshank Redemption', 'The Godfather', 'The Godfather Part II', 'The Lord of the Rings: The Fellowship of the Ring', 'The Good, the Bad and the Ugly', 'Pulp Fiction'}\n"
          ]
        }
      ]
    },
    {
      "cell_type": "code",
      "source": [
        "new_list = list(filmes_2)\n",
        "\n",
        "print(new_list)"
      ],
      "metadata": {
        "colab": {
          "base_uri": "https://localhost:8080/"
        },
        "id": "DOzwwGV0q-kY",
        "outputId": "4334d9f7-b94f-4a3f-f923-7e195f1736dc"
      },
      "execution_count": 8,
      "outputs": [
        {
          "output_type": "stream",
          "name": "stdout",
          "text": [
            "['12 Angry Men', \"Schindler's List\", 'The Dark Knight', 'The Lord of the Rings: The Return of the King', 'The Shawshank Redemption', 'The Godfather', 'The Godfather Part II', 'The Lord of the Rings: The Fellowship of the Ring', 'The Good, the Bad and the Ugly', 'Pulp Fiction']\n"
          ]
        }
      ]
    },
    {
      "cell_type": "markdown",
      "source": [
        "### Exercício 3"
      ],
      "metadata": {
        "id": "EJsxCzb9rJVM"
      }
    },
    {
      "cell_type": "code",
      "source": [
        "filmes = []\n",
        "\n",
        "filmes.append({\"nome\": \"The Shawshank Redemption\", \"ano\": 1994, \"sinopse\": \"Over the course of several years, two convicts form a friendship, seeking consolation and, eventually, redemption through basic compassion.\"})\n",
        "filmes.append({\"nome\": \"The Godfather\", \"ano\": 1972 , \"sinopse\": \"Don Vito Corleone, head of a mafia family, decides to hand over his empire to his youngest son Michael. However, his decision unintentionally puts the lives of his loved ones in grave danger.\"})\n",
        "filmes.append({\"nome\": \"The Dark Knight\", \"ano\": 2008 , \"sinopse\": \"When the menace known as the Joker wreaks havoc and chaos on the people of Gotham, Batman must accept one of the greatest psychological and physical tests of his ability to fight injustice.\"})\n",
        "filmes.append({\"nome\": \"The Godfather Part II\", \"ano\": 1974 , \"sinopse\": \"The early life and career of Vito Corleone in 1920s New York City is portrayed, while his son, Michael, expands and tightens his grip on the family crime syndicate.\"})\n",
        "filmes.append({\"nome\": \"12 Angry Men\", \"ano\": 1957, \"sinopse\": \"The jury in a New York City murder trial is frustrated by a single member whose skeptical caution forces them to more carefully consider the evidence before jumping to a hasty verdict.\"})\n",
        "filmes.append({\"nome\": \"Schindler's List\", \"ano\": 1993, \"sinopse\": \"In German-occupied Poland during World War II, industrialist Oskar Schindler gradually becomes concerned for his Jewish workforce after witnessing their persecution by the Nazis.\"})\n",
        "filmes.append({\"nome\": \"The Lord of the Rings: The Return of the King\", \"ano\": 2003, \"sinopse\": \"Gandalf and Aragorn lead the World of Men against Sauron's army to draw his gaze from Frodo and Sam as they approach Mount Doom with the One Ring.\"})\n",
        "filmes.append({\"nome\": \"Pulp Fiction\", \"ano\": 1994, \"sinopse\": \"The lives of two mob hitmen, a boxer, a gangster and his wife, and a pair of diner bandits intertwine in four tales of violence and redemption.\"})\n",
        "filmes.append({\"nome\": \"The Lord of the Rings: The Fellowship of the Ring\", \"ano\": 2001, \"sinopse\": \"A meek Hobbit from the Shire and eight companions set out on a journey to destroy the powerful One Ring and save Middle-earth from the Dark Lord Sauron.\"})\n",
        "filmes.append({\"nome\": \"The Good, the Bad and the Ugly\", \"ano\": 1966, \"sinopse\": \"A bounty hunting scam joins two men in an uneasy alliance against a third in a race to find a fortune in gold buried in a remote cemetery.\"})\n",
        "\n",
        "print(filmes)"
      ],
      "metadata": {
        "colab": {
          "base_uri": "https://localhost:8080/"
        },
        "id": "wjaRdrWCrNGg",
        "outputId": "908eb500-a22f-4b07-ab6f-cdb61877fd6a"
      },
      "execution_count": 9,
      "outputs": [
        {
          "output_type": "stream",
          "name": "stdout",
          "text": [
            "[{'nome': 'The Shawshank Redemption', 'ano': 1994, 'sinopse': 'Over the course of several years, two convicts form a friendship, seeking consolation and, eventually, redemption through basic compassion.'}, {'nome': 'The Godfather', 'ano': 1972, 'sinopse': 'Don Vito Corleone, head of a mafia family, decides to hand over his empire to his youngest son Michael. However, his decision unintentionally puts the lives of his loved ones in grave danger.'}, {'nome': 'The Dark Knight', 'ano': 2008, 'sinopse': 'When the menace known as the Joker wreaks havoc and chaos on the people of Gotham, Batman must accept one of the greatest psychological and physical tests of his ability to fight injustice.'}, {'nome': 'The Godfather Part II', 'ano': 1974, 'sinopse': 'The early life and career of Vito Corleone in 1920s New York City is portrayed, while his son, Michael, expands and tightens his grip on the family crime syndicate.'}, {'nome': '12 Angry Men', 'ano': 1957, 'sinopse': 'The jury in a New York City murder trial is frustrated by a single member whose skeptical caution forces them to more carefully consider the evidence before jumping to a hasty verdict.'}, {'nome': \"Schindler's List\", 'ano': 1993, 'sinopse': 'In German-occupied Poland during World War II, industrialist Oskar Schindler gradually becomes concerned for his Jewish workforce after witnessing their persecution by the Nazis.'}, {'nome': 'The Lord of the Rings: The Return of the King', 'ano': 2003, 'sinopse': \"Gandalf and Aragorn lead the World of Men against Sauron's army to draw his gaze from Frodo and Sam as they approach Mount Doom with the One Ring.\"}, {'nome': 'Pulp Fiction', 'ano': 1994, 'sinopse': 'The lives of two mob hitmen, a boxer, a gangster and his wife, and a pair of diner bandits intertwine in four tales of violence and redemption.'}, {'nome': 'The Lord of the Rings: The Fellowship of the Ring', 'ano': 2001, 'sinopse': 'A meek Hobbit from the Shire and eight companions set out on a journey to destroy the powerful One Ring and save Middle-earth from the Dark Lord Sauron.'}, {'nome': 'The Good, the Bad and the Ugly', 'ano': 1966, 'sinopse': 'A bounty hunting scam joins two men in an uneasy alliance against a third in a race to find a fortune in gold buried in a remote cemetery.'}]\n"
          ]
        }
      ]
    }
  ]
}