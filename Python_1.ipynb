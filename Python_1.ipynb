{
  "nbformat": 4,
  "nbformat_minor": 0,
  "metadata": {
    "colab": {
      "provenance": []
    },
    "kernelspec": {
      "name": "python3",
      "display_name": "Python 3"
    },
    "language_info": {
      "name": "python"
    }
  },
  "cells": [
    {
      "cell_type": "markdown",
      "source": [
        "### Exercício 1"
      ],
      "metadata": {
        "id": "FmPmM8bwp5jn"
      }
    },
    {
      "cell_type": "code",
      "execution_count": 1,
      "metadata": {
        "colab": {
          "base_uri": "https://localhost:8080/"
        },
        "id": "Ob3VvMoR2gv9",
        "outputId": "dd7e3b06-ae3b-4504-ce54-b2726ce09deb"
      },
      "outputs": [
        {
          "output_type": "stream",
          "name": "stdout",
          "text": [
            "Hello World!\n"
          ]
        }
      ],
      "source": [
        "print(\"Hello World!\")"
      ]
    },
    {
      "cell_type": "markdown",
      "source": [
        "### Exercício 2"
      ],
      "metadata": {
        "id": "SCf6Q5kRqC6Z"
      }
    },
    {
      "cell_type": "code",
      "source": [
        "# A\n",
        "\n",
        "sqv_19 = 3\n",
        "tkt_19 = 320.52\n",
        "\n",
        "svv_19 = sqv_19 * tkt_19\n",
        "print(svv_19)"
      ],
      "metadata": {
        "colab": {
          "base_uri": "https://localhost:8080/"
        },
        "id": "iSHGoh9no9UP",
        "outputId": "4ffb953a-7862-4d26-d527-d2a3acc235c1"
      },
      "execution_count": 2,
      "outputs": [
        {
          "output_type": "stream",
          "name": "stdout",
          "text": [
            "961.56\n"
          ]
        }
      ]
    },
    {
      "cell_type": "code",
      "source": [
        "#B\n",
        "\n",
        "svv_20 = 834.47\n",
        "tkt_20 = 119.21\n",
        "\n",
        "sqv_20 = svv_20 / tkt_20\n",
        "print(sqv_20)"
      ],
      "metadata": {
        "colab": {
          "base_uri": "https://localhost:8080/"
        },
        "id": "zqVGuWCTpDwS",
        "outputId": "c122ee9b-bd55-405c-987a-900790bb4bbf"
      },
      "execution_count": 3,
      "outputs": [
        {
          "output_type": "stream",
          "name": "stdout",
          "text": [
            "7.000000000000001\n"
          ]
        }
      ]
    },
    {
      "cell_type": "code",
      "source": [
        "#C\n",
        "\n",
        "svv_21 = 15378.12\n",
        "sqv_21 = 5\n",
        "\n",
        "tkt_21 = svv_21 / sqv_21\n",
        "print(tkt_21)"
      ],
      "metadata": {
        "colab": {
          "base_uri": "https://localhost:8080/"
        },
        "id": "4PCgQ3espHLI",
        "outputId": "74d219dc-e4cf-4ec8-e643-ca01fa554df4"
      },
      "execution_count": 4,
      "outputs": [
        {
          "output_type": "stream",
          "name": "stdout",
          "text": [
            "3075.6240000000003\n"
          ]
        }
      ]
    },
    {
      "cell_type": "markdown",
      "source": [
        "### Exercício 3"
      ],
      "metadata": {
        "id": "R4jCh1moqE6H"
      }
    },
    {
      "cell_type": "code",
      "source": [
        "cancao = 'Roda mundo, roda gigante, roda moinho, roda pião.'\n",
        "\n",
        "print(cancao.upper())\n",
        "\n",
        "posicao = cancao.find('moinho')\n",
        "print(posicao)\n",
        "\n",
        "print(cancao.replace('pião' , 'bola'))"
      ],
      "metadata": {
        "colab": {
          "base_uri": "https://localhost:8080/"
        },
        "id": "VtYeBfTYpPu3",
        "outputId": "56a071a3-2d6e-4637-fe34-733b1bda6e53"
      },
      "execution_count": 5,
      "outputs": [
        {
          "output_type": "stream",
          "name": "stdout",
          "text": [
            "RODA MUNDO, RODA GIGANTE, RODA MOINHO, RODA PIÃO.\n",
            "31\n",
            "Roda mundo, roda gigante, roda moinho, roda bola.\n"
          ]
        }
      ]
    },
    {
      "cell_type": "code",
      "source": [
        "noticia = 'Selic vai a 2,75% e supera expectativas' + \\\n",
        "'é a primeira alta em 6 anos'"
      ],
      "metadata": {
        "id": "C9eK8XfnpPra"
      },
      "execution_count": 6,
      "outputs": []
    },
    {
      "cell_type": "code",
      "source": [
        "noticia = noticia [11:17]\n",
        "print(noticia)"
      ],
      "metadata": {
        "colab": {
          "base_uri": "https://localhost:8080/"
        },
        "id": "BScvY-NQpPpa",
        "outputId": "131cb732-e7cd-4db3-e2ad-a3b8a78ca8a1"
      },
      "execution_count": 7,
      "outputs": [
        {
          "output_type": "stream",
          "name": "stdout",
          "text": [
            " 2,75%\n"
          ]
        }
      ]
    },
    {
      "cell_type": "code",
      "source": [
        "noticia =noticia [57:66]\n",
        "print(noticia)"
      ],
      "metadata": {
        "colab": {
          "base_uri": "https://localhost:8080/"
        },
        "id": "BE3BMGsCpPkJ",
        "outputId": "454d27f9-9e10-4bc2-dd73-c56c05538502"
      },
      "execution_count": 11,
      "outputs": [
        {
          "output_type": "stream",
          "name": "stdout",
          "text": [
            "\n"
          ]
        }
      ]
    },
    {
      "cell_type": "markdown",
      "source": [
        "### Exercício 4"
      ],
      "metadata": {
        "id": "PTiyCvUjqHBs"
      }
    },
    {
      "cell_type": "code",
      "source": [
        "a = not False\n",
        "b = True\n",
        "\n",
        "x = True & True\n",
        "\n",
        "print(x)"
      ],
      "metadata": {
        "colab": {
          "base_uri": "https://localhost:8080/"
        },
        "id": "pB-rwomspmM0",
        "outputId": "f7501ffa-f0d3-43ee-8691-057fa9ab4ed7"
      },
      "execution_count": 13,
      "outputs": [
        {
          "output_type": "stream",
          "name": "stdout",
          "text": [
            "True\n"
          ]
        }
      ]
    }
  ]
}