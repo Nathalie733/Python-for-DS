{
  "nbformat": 4,
  "nbformat_minor": 0,
  "metadata": {
    "colab": {
      "provenance": []
    },
    "kernelspec": {
      "name": "python3",
      "display_name": "Python 3"
    },
    "language_info": {
      "name": "python"
    }
  },
  "cells": [
    {
      "cell_type": "code",
      "source": [
        "%%writefile carros.csv\n",
        "id,valor_venda,valor_manutencao,portas,pessoas,porta_malas\n",
        "1,vhigh,med,2,2,small\n",
        "2,med,vhigh,2,2,small\n",
        "3,low,vhigh,2,2,small\n",
        "4,low,high,2,2,small\n",
        "5,low,high,2,2,small\n",
        "6,low,high,4,4,big\n",
        "7,low,high,4,4,big\n",
        "8,low,med,2,2,small\n",
        "9,low,med,2,2,small\n",
        "10,low,med,2,2,small\n",
        "11,low,med,4,4,big\n",
        "12,low,low,2,2,small\n",
        "13,low,low,4,4,small\n",
        "14,low,low,4,4,med"
      ],
      "metadata": {
        "colab": {
          "base_uri": "https://localhost:8080/"
        },
        "id": "O8JLccOIH3_D",
        "outputId": "d45b484a-1afe-4c45-f5ef-6034228dab53"
      },
      "execution_count": null,
      "outputs": [
        {
          "output_type": "stream",
          "name": "stdout",
          "text": [
            "Writing carros.csv\n"
          ]
        }
      ]
    },
    {
      "cell_type": "code",
      "source": [
        "  with open(file='./carros.csv', mode='r', encoding='utf8') as arquivo:\n",
        "      linha = arquivo.readline()"
      ],
      "metadata": {
        "id": "59Nkuy-GNHss"
      },
      "execution_count": null,
      "outputs": []
    },
    {
      "cell_type": "code",
      "source": [
        "  def extrai_coluna_csv(nome_arquivo: str, indice_coluna= int, tipo_dado= str):\n",
        "    coluna = []\n",
        "\n",
        "    with open(file=nome_arquivo , mode='r', encoding='utf8') as na:\n",
        "      linha = na.readline()\n",
        "      linha = na.readline()\n",
        "\n",
        "      while linha:\n",
        "        linha_sep  = linha.split(sep=',')\n",
        "        indice = linha_sep[indice_coluna]\n",
        "\n",
        "        if tipo_dado == 'str':\n",
        "          indice = str(indice)\n",
        "        elif tipo_dado == 'int':\n",
        "          indice = int(indice)\n",
        "        elif tipo_dado == 'float':\n",
        "          indice = float(indice)\n",
        "        else:\n",
        "          indice = bool(indice)\n",
        "        coluna.append(indice)\n",
        "        linha = na.readline()\n",
        "    return coluna"
      ],
      "metadata": {
        "id": "7I2d83uSH2k9"
      },
      "execution_count": null,
      "outputs": []
    },
    {
      "cell_type": "code",
      "source": [
        "valores = extrai_coluna_csv(nome_arquivo='./carros.csv', indice_coluna=1, tipo_dado='str')\n",
        "print(valores)"
      ],
      "metadata": {
        "colab": {
          "base_uri": "https://localhost:8080/"
        },
        "id": "AsX8SiXBUAY7",
        "outputId": "11db49fe-d2eb-44ce-ed43-8493872dd6f6"
      },
      "execution_count": null,
      "outputs": [
        {
          "output_type": "stream",
          "name": "stdout",
          "text": [
            "['vhigh', 'med', 'low', 'low', 'low', 'low', 'low', 'low', 'low', 'low', 'low', 'low', 'low', 'low']\n"
          ]
        }
      ]
    },
    {
      "cell_type": "code",
      "source": [
        "pessoas = extrai_coluna_csv(nome_arquivo='./carros.csv', indice_coluna=4, tipo_dado='int')\n",
        "print(pessoas)"
      ],
      "metadata": {
        "colab": {
          "base_uri": "https://localhost:8080/"
        },
        "id": "V_1bxz83KDuA",
        "outputId": "1b75ee2e-ef88-45aa-95a5-e6951c3222b9"
      },
      "execution_count": null,
      "outputs": [
        {
          "output_type": "stream",
          "name": "stdout",
          "text": [
            "[2, 2, 2, 2, 2, 4, 4, 2, 2, 2, 4, 2, 4, 4]\n"
          ]
        }
      ]
    },
    {
      "cell_type": "code",
      "source": [
        "%%writefile musica.txt\n",
        "\n",
        "Roda Viva\n",
        "Chico Buarque\n",
        "Tem dias que a gente se sente\n",
        "Como quem partiu ou morreu\n",
        "A gente estancou de repente\n",
        "Ou foi o mundo então que cresceu\n",
        "A gente quer ter voz ativa\n",
        "No nosso destino mandar\n",
        "Mas eis que chega a roda viva\n",
        "E carrega o destino pra lá\n",
        "Roda mundo, roda-gigante\n",
        "Roda moinho, roda pião\n",
        "O tempo rodou num instante\n",
        "Nas voltas do meu coração\n",
        "A gente vai contra a corrente\n",
        "Até não poder resistir\n",
        "Na volta do barco é que sente\n",
        "O quanto deixou de cumprir\n",
        "Faz tempo que a gente cultiva\n",
        "A mais linda roseira que há\n",
        "Mas eis que chega a roda viva\n",
        "E carrega a roseira pra lá\n",
        "Roda mundo, roda-gigante\n",
        "Roda moinho, roda pião"
      ],
      "metadata": {
        "colab": {
          "base_uri": "https://localhost:8080/"
        },
        "id": "Er-omwoxNOjH",
        "outputId": "27538fd2-aed7-40e7-8dd2-d384e90ed2a9"
      },
      "execution_count": null,
      "outputs": [
        {
          "output_type": "stream",
          "name": "stdout",
          "text": [
            "Writing musica.txt\n"
          ]
        }
      ]
    },
    {
      "cell_type": "code",
      "source": [
        "with open(file='./musica.txt', mode='r', encoding='utf8') as leitura:\n",
        "  linha = leitura.readline()"
      ],
      "metadata": {
        "id": "f64XBCbFNR1X"
      },
      "execution_count": null,
      "outputs": []
    },
    {
      "cell_type": "code",
      "source": [
        "def extrai_linha_txt(nome_arquivo: str, numero_linha: int):\n",
        "\n",
        "  palavras_linha = []\n",
        "\n",
        "  with open(file=nome_arquivo , mode='r', encoding='utf8') as nat:\n",
        "    linha = nat.readlines()[numero_linha - 1]\n",
        "\n",
        "    linha_sep  = linha.split(sep=' ')\n",
        "\n",
        "    palavras_linha.append(linha_sep)\n",
        "\n",
        "  return palavras_linha"
      ],
      "metadata": {
        "id": "kb6nnUswNUoC"
      },
      "execution_count": null,
      "outputs": []
    },
    {
      "cell_type": "code",
      "source": [
        "linha10 = extrai_linha_txt(nome_arquivo='./musica.txt', numero_linha=10)\n",
        "print(linha10)"
      ],
      "metadata": {
        "colab": {
          "base_uri": "https://localhost:8080/"
        },
        "id": "wVGsu4pPNXMo",
        "outputId": "1a74fed7-d09a-4df9-8e28-4d6458a62251"
      },
      "execution_count": null,
      "outputs": [
        {
          "output_type": "stream",
          "name": "stdout",
          "text": [
            "[['Mas', 'eis', 'que', 'chega', 'a', 'roda', 'viva\\n']]\n"
          ]
        }
      ]
    }
  ]
}